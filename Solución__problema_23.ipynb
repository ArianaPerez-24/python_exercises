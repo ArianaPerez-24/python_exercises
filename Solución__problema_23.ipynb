{
  "nbformat": 4,
  "nbformat_minor": 0,
  "metadata": {
    "colab": {
      "provenance": [],
      "authorship_tag": "ABX9TyMwS9C6zJUIRrXMGPWsHE4c",
      "include_colab_link": true
    },
    "kernelspec": {
      "name": "python3",
      "display_name": "Python 3"
    },
    "language_info": {
      "name": "python"
    }
  },
  "cells": [
    {
      "cell_type": "markdown",
      "metadata": {
        "id": "view-in-github",
        "colab_type": "text"
      },
      "source": [
        "<a href=\"https://colab.research.google.com/github/mevangelista-alvarado/python_exercises/blob/main/Soluci%C3%B3n__problema_23.ipynb\" target=\"_parent\"><img src=\"https://colab.research.google.com/assets/colab-badge.svg\" alt=\"Open In Colab\"/></a>"
      ]
    },
    {
      "cell_type": "markdown",
      "source": [
        "# Escribir una función que dado el largo y ancho de un rectángulo calcule y muestre en consola el área y el perímetro del rectangulo"
      ],
      "metadata": {
        "id": "P7lrDvRWnS6p"
      }
    },
    {
      "cell_type": "code",
      "source": [
        "#El usuaro tiene que ingresar los datos\n",
        "largo = 20\n",
        "ancho = 14\n",
        "\n",
        "#Calculo de área y perimetro\n",
        "area = (largo*ancho)\n",
        "perimetro = 2*(ancho + largo)\n",
        "\n",
        "print(\"El area es =\", area)\n",
        "print(\"El perimetro es =\", perimetro)"
      ],
      "metadata": {
        "id": "xnGEvpt2tBPx",
        "colab": {
          "base_uri": "https://localhost:8080/"
        },
        "outputId": "d95c7add-3938-425a-bf98-fc359847ed6e"
      },
      "execution_count": 20,
      "outputs": [
        {
          "output_type": "stream",
          "name": "stdout",
          "text": [
            "El area es = 280\n",
            "El perimetro es = 68\n"
          ]
        }
      ]
    }
  ]
}