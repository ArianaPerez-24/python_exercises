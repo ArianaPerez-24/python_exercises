{
  "nbformat": 4,
  "nbformat_minor": 0,
  "metadata": {
    "colab": {
      "provenance": [],
      "toc_visible": true,
      "authorship_tag": "ABX9TyNGMrOqPlzz+rYjPAXrLhek",
      "include_colab_link": true
    },
    "kernelspec": {
      "name": "python3",
      "display_name": "Python 3"
    },
    "language_info": {
      "name": "python"
    }
  },
  "cells": [
    {
      "cell_type": "markdown",
      "metadata": {
        "id": "view-in-github",
        "colab_type": "text"
      },
      "source": [
        "<a href=\"https://colab.research.google.com/github/mevangelista-alvarado/python_exercises/blob/main/soluci%C3%B3n_del_ejercicio_2_.ipynb\" target=\"_parent\"><img src=\"https://colab.research.google.com/assets/colab-badge.svg\" alt=\"Open In Colab\"/></a>"
      ]
    },
    {
      "cell_type": "markdown",
      "source": [
        "Factorial\n",
        "\n",
        "El factorial de un entero positivo\n",
        ", se define en como el producto de todos los números enteros positivos desde\n",
        "(es decir, los números naturales) hasta n\n",
        "\n",
        "\n",
        "La operación de factorial aparece en muchas áreas de las matemáticas, particularmente en combinatoria y análisis matemático.\n",
        "\n",
        "Escribir una función que calcula el factorial de un número dado por el usuario y devuelva el resultado obtenido al final de dicho cálculo."
      ],
      "metadata": {
        "id": "Fr9md1SGZFKl"
      }
    },
    {
      "cell_type": "code",
      "source": [
        "def fact(n):\n",
        "  if n<0:\n",
        "    return\"Error\"\n",
        "  if n==0 or n==1:\n",
        "    return 1\n",
        "  for i in range (1,n):\n",
        "    n=n*i\n",
        "  return n\n",
        "x = int(input(\"Dame el valor a calcular \"))\n",
        "fact(x)"
      ],
      "metadata": {
        "colab": {
          "base_uri": "https://localhost:8080/"
        },
        "id": "RHO8yFoRsDGd",
        "outputId": "fe795413-e98b-4246-9c46-81a756ceb42b"
      },
      "execution_count": null,
      "outputs": [
        {
          "name": "stdout",
          "output_type": "stream",
          "text": [
            "Dame el valor a calcular 5\n"
          ]
        },
        {
          "output_type": "execute_result",
          "data": {
            "text/plain": [
              "120"
            ]
          },
          "metadata": {},
          "execution_count": 1
        }
      ]
    },
    {
      "cell_type": "markdown",
      "source": [
        "#Lo que hace esta función, es tomar como argumento un número “n». de modo que si este es 0 o 1 (“if n==0 or n==1:») la función devolverá directamente como resultado el número 1 (“resultado=1»). Sin embargo si dicho número “n» es mayor que 1 (“elif n>1:»), haremos que el resultado (“resultado») sea igual al producto de dicho número por el resultado de aplicar la misma función “factorial» por el mismo número menos 1 (“resultado=n*factorial(n-1)»). La peculiaridad de esta función reside, precisamente en ese último hecho, en la medida que se trata de una función que contiene una llamada a sí misma. Esto es lo que se conoce como función recursiva.\n"
      ],
      "metadata": {
        "id": "xV_FC_69xLii"
      }
    }
  ]
}