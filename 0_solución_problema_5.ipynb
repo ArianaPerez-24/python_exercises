{
  "nbformat": 4,
  "nbformat_minor": 0,
  "metadata": {
    "colab": {
      "provenance": [],
      "authorship_tag": "ABX9TyNe4fJ6Kk/QPyBJEgVYtCc3",
      "include_colab_link": true
    },
    "kernelspec": {
      "name": "python3",
      "display_name": "Python 3"
    },
    "language_info": {
      "name": "python"
    }
  },
  "cells": [
    {
      "cell_type": "markdown",
      "metadata": {
        "id": "view-in-github",
        "colab_type": "text"
      },
      "source": [
        "<a href=\"https://colab.research.google.com/github/mevangelista-alvarado/python_exercises/blob/main/0_soluci%C3%B3n_problema_5.ipynb\" target=\"_parent\"><img src=\"https://colab.research.google.com/assets/colab-badge.svg\" alt=\"Open In Colab\"/></a>"
      ]
    },
    {
      "cell_type": "code",
      "execution_count": 1,
      "metadata": {
        "colab": {
          "base_uri": "https://localhost:8080/"
        },
        "id": "_tpYlOuh0gV9",
        "outputId": "efe9164c-4c56-48f8-89ba-e2ac266e81a2"
      },
      "outputs": [
        {
          "output_type": "stream",
          "name": "stdout",
          "text": [
            "Introduce el primer numero: 100\n",
            "Introduce el segundo numero: 20\n",
            "El máximo común divisor de  100  y  20  es  20\n"
          ]
        }
      ],
      "source": [
        "#máximo común divisor\n",
        "# define la función\n",
        "def mcd(a, b):\n",
        "\tresto = 0\n",
        "\twhile(b > 0):\n",
        "\t\tresto = b\n",
        "\t\tb = a % b\n",
        "\t\ta = resto\n",
        "\treturn a\n",
        "\n",
        "# solicitamos los dos números\n",
        "num1 = int(input(\"Introduce el primer numero: \"))\n",
        "num2 = int(input(\"Introduce el segundo numero: \"))\n",
        "\n",
        "print(\"El máximo común divisor de \", num1,\" y \", num2,\" es \", mcd(num1, num2))"
      ]
    }
  ]
}