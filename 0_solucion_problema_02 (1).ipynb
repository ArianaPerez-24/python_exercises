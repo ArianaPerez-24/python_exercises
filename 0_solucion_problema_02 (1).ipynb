{
  "nbformat": 4,
  "nbformat_minor": 0,
  "metadata": {
    "colab": {
      "provenance": []
    },
    "kernelspec": {
      "name": "python3",
      "display_name": "Python 3"
    },
    "language_info": {
      "name": "python"
    }
  },
  "cells": [
    {
      "cell_type": "code",
      "execution_count": null,
      "metadata": {
        "colab": {
          "base_uri": "https://localhost:8080/"
        },
        "id": "JeJ7UlUfXT5M",
        "outputId": "e4e0d884-76e7-4a15-f033-5f9adbd83cb2"
      },
      "outputs": [
        {
          "output_type": "stream",
          "name": "stdout",
          "text": [
            "CALCULEMOS UN NÚMERO FACTORIAL N!\n",
            "\n",
            "Un número factorial es aquel producto de un número natural, el cual resultara de la multiplicación\n",
            "de los números consecutivos que lo anteceden. Ej. 4! (cuatro factorial) = 4x3x2x1\n",
            "\n"
          ]
        }
      ],
      "source": [
        "print (\"CALCULEMOS UN NÚMERO FACTORIAL N!\")\n",
        "print (\"\")\n",
        "print (\"Un número factorial es aquel producto de un número natural, el cual resultara de la multiplicación\")\n",
        "print (\"de los números consecutivos que lo anteceden. Ej. 4! (cuatro factorial) = 4x3x2x1\")\n",
        "print (\"\")\n",
        "numero = int(input(\"Introduzca un número entero cualquiera: \"))\n",
        "factorial = 1\n",
        "i = 1\n",
        "while (i <= numero):\n",
        "    factorial = factorial * i\n",
        "    i = i + 1\n",
        "print (\"El factorial de \" + str(numero) + \" es \" + str(factorial))"
      ]
    }
  ]
}