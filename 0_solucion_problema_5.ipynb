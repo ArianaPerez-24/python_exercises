{
  "nbformat": 4,
  "nbformat_minor": 0,
  "metadata": {
    "colab": {
      "provenance": [],
      "authorship_tag": "ABX9TyNX+X4x44fhTDR7BInXRv35",
      "include_colab_link": true
    },
    "kernelspec": {
      "name": "python3",
      "display_name": "Python 3"
    },
    "language_info": {
      "name": "python"
    }
  },
  "cells": [
    {
      "cell_type": "markdown",
      "metadata": {
        "id": "view-in-github",
        "colab_type": "text"
      },
      "source": [
        "<a href=\"https://colab.research.google.com/github/mevangelista-alvarado/python_exercises/blob/main/0_solucion_problema_5.ipynb\" target=\"_parent\"><img src=\"https://colab.research.google.com/assets/colab-badge.svg\" alt=\"Open In Colab\"/></a>"
      ]
    },
    {
      "cell_type": "markdown",
      "source": [
        "![urc_logo_ext](https://github.com/URC-MAC/.github/assets/28746720/1d2b04df-5870-457b-82ab-4eb97ec99e17)\n",
        "_____\n",
        "\n",
        "**Actualizado**: 24/10/2023\n",
        "\n",
        "**Autor**: Jesús Gerardo Gonzáles Miranda\n",
        "\n",
        "**Github**: Lux176\n",
        "\n",
        "_____\n",
        "# Ejercicio 5\n",
        "_____\n",
        "\n",
        "__Máximo Común Divisor__  \n",
        "\n",
        "_____\n",
        "\n",
        "Un número entero $d$ se llama máximo común divisor de los números $a$ y $b$ cuando:  \n",
        "\n",
        "* $d$ es divisor común de los números $a$ y $b$\n",
        "* $d$ es divisible por cualquier otro divisor común de los números $a$ y $b$.\n",
        "\n",
        "\n",
        "Escribir una función que calcule y muestre el máximo común divisor de dos números dados por el usuario.\n",
        "\n",
        "____\n",
        "\n",
        "**Notas**  \n",
        "\n",
        "No utilice módulos de `Python`.\n",
        "\n",
        "_____"
      ],
      "metadata": {
        "id": "7T7KYiKds31n"
      }
    },
    {
      "cell_type": "markdown",
      "source": [
        "La funcion \"calcular_mcd\" toma dos argumentos \"a\" y \"b\" utiliza el algoritmo de Euclides para calcular el MCD de \"a\" y \"b\"."
      ],
      "metadata": {
        "id": "5YOEQsIgvx1_"
      }
    },
    {
      "cell_type": "markdown",
      "source": [
        "Dentreo del bucle \"while\", la variable \"b\" se actualizar con \"a % b\" y \"a\" se actualiza con el valor anterior de \"b\". Esto se repite hasta que \"b\" llega a cero, en cuyo momento hemos encontrado el MCD y lo devolvemos."
      ],
      "metadata": {
        "id": "vHPT2CJ-wGvt"
      }
    },
    {
      "cell_type": "code",
      "source": [
        "def calcular_mcd(a, b):\n",
        "    while b:\n",
        "        a, b = b, a % b"
      ],
      "metadata": {
        "id": "gHMIoqtNvjID"
      },
      "execution_count": null,
      "outputs": []
    },
    {
      "cell_type": "markdown",
      "source": [
        "Solicitamos al usuario que ingrese los dos numeros que desean encontrar el MCD."
      ],
      "metadata": {
        "id": "gn4kfOTNwtC2"
      }
    },
    {
      "cell_type": "code",
      "source": [
        "num1 = int(input(\"Ingresa el primer número: \"))\n",
        "num2 = int(input(\"Ingresa el segundo número: \"))"
      ],
      "metadata": {
        "colab": {
          "base_uri": "https://localhost:8080/"
        },
        "id": "g6IOhlqIvoMH",
        "outputId": "39959e76-308a-4923-ae6f-398bc2c8cdd5"
      },
      "execution_count": null,
      "outputs": [
        {
          "name": "stdout",
          "output_type": "stream",
          "text": [
            "Ingresa el primer número: 5\n",
            "Ingresa el segundo número: 2\n"
          ]
        }
      ]
    },
    {
      "cell_type": "markdown",
      "source": [
        "Usamos la funcion \"calula_mcd\" para calcular el MCD de los numero ingresados por el usuario."
      ],
      "metadata": {
        "id": "cZbqL6lBw2wE"
      }
    },
    {
      "cell_type": "code",
      "source": [
        "mcd = calcular_mcd(num1, num2)"
      ],
      "metadata": {
        "id": "jr_aTJdFvr72"
      },
      "execution_count": null,
      "outputs": []
    },
    {
      "cell_type": "markdown",
      "source": [
        "Finalemnte, mostramos el resultado en un mensaje de texto que incluye los numeros ingresados y su MCD."
      ],
      "metadata": {
        "id": "yJA8Bo4OxDDk"
      }
    },
    {
      "cell_type": "code",
      "source": [
        "print(f\"El Máximo Común Divisor de {num1} y {num2} es {mcd}\")"
      ],
      "metadata": {
        "colab": {
          "base_uri": "https://localhost:8080/"
        },
        "id": "g82z5fAPvvFw",
        "outputId": "ec5e9395-4ad8-47b5-add4-373e59f097a5"
      },
      "execution_count": null,
      "outputs": [
        {
          "output_type": "stream",
          "name": "stdout",
          "text": [
            "El Máximo Común Divisor de 5 y 2 es None\n"
          ]
        }
      ]
    },
    {
      "cell_type": "markdown",
      "source": [
        "Bibliografia: https://colab.research.google.com/drive/1PBLrJ8TBSP5yPQqLVy45I4v_e64U-L1Q"
      ],
      "metadata": {
        "id": "o8LbXq4hXZr3"
      }
    }
  ]
}