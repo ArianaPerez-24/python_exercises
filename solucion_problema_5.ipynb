{
  "nbformat": 4,
  "nbformat_minor": 0,
  "metadata": {
    "colab": {
      "provenance": [],
      "toc_visible": true,
      "authorship_tag": "ABX9TyMBUzEAfxpUBM56nKuoudYu",
      "include_colab_link": true
    },
    "kernelspec": {
      "name": "python3",
      "display_name": "Python 3"
    },
    "language_info": {
      "name": "python"
    }
  },
  "cells": [
    {
      "cell_type": "markdown",
      "metadata": {
        "id": "view-in-github",
        "colab_type": "text"
      },
      "source": [
        "<a href=\"https://colab.research.google.com/github/mevangelista-alvarado/python_exercises/blob/main/solucion_problema_5.ipynb\" target=\"_parent\"><img src=\"https://colab.research.google.com/assets/colab-badge.svg\" alt=\"Open In Colab\"/></a>"
      ]
    },
    {
      "cell_type": "code",
      "source": [
        "#Máximo Común Divisor\n",
        "#Escribir una función que calcule y muestre el máximo común divisor de dos números dados por el usuario.\n",
        "\n",
        "num1 = int(input(\"Igrese el primer número :\"))\n",
        "num2 = int(input(\"Ingrese el segundo número :\"))\n",
        "\n",
        "while num2:\n",
        "  num1, num2 = num2,num1 % num2\n",
        "  print(\"El máximo común divisor de los números ingresados es:\", num1)\n"
      ],
      "metadata": {
        "colab": {
          "base_uri": "https://localhost:8080/"
        },
        "id": "nmtOuraMBw5f",
        "outputId": "3db9b5d4-3cfd-40af-978c-c49e4f909a4b"
      },
      "execution_count": 11,
      "outputs": [
        {
          "output_type": "stream",
          "name": "stdout",
          "text": [
            "Igrese el primer número :5\n",
            "Ingrese el segundo número :6\n",
            "El máximo común divisor de los números ingresados es: 6\n",
            "El máximo común divisor de los números ingresados es: 5\n",
            "El máximo común divisor de los números ingresados es: 1\n"
          ]
        }
      ]
    },
    {
      "cell_type": "code",
      "source": [],
      "metadata": {
        "id": "z9PL4v0zBwuU"
      },
      "execution_count": null,
      "outputs": []
    },
    {
      "cell_type": "code",
      "source": [
        ""
      ],
      "metadata": {
        "id": "rmhc_JHYBwb1"
      },
      "execution_count": null,
      "outputs": []
    }
  ]
}