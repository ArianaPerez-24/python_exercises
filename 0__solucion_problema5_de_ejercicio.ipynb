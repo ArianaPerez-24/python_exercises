{
  "nbformat": 4,
  "nbformat_minor": 0,
  "metadata": {
    "colab": {
      "provenance": [],
      "authorship_tag": "ABX9TyMPlG62PW+GH/LUengTOZT5",
      "include_colab_link": true
    },
    "kernelspec": {
      "name": "python3",
      "display_name": "Python 3"
    },
    "language_info": {
      "name": "python"
    }
  },
  "cells": [
    {
      "cell_type": "markdown",
      "metadata": {
        "id": "view-in-github",
        "colab_type": "text"
      },
      "source": [
        "<a href=\"https://colab.research.google.com/github/mevangelista-alvarado/python_exercises/blob/main/0__solucion_problema5_de_ejercicio.ipynb\" target=\"_parent\"><img src=\"https://colab.research.google.com/assets/colab-badge.svg\" alt=\"Open In Colab\"/></a>"
      ]
    },
    {
      "cell_type": "code",
      "execution_count": null,
      "metadata": {
        "id": "yIO8TvfxvWo0"
      },
      "outputs": [],
      "source": [
        "\n",
        "def calcular_mcd(num1, num2):\n",
        "    # Algoritmo de Euclides para encontrar el MCD\n",
        "    while num2 != 0:\n",
        "        temp = num2\n",
        "        num2 = num1 % num2\n",
        "        num1 = temp\n",
        "    return num1\n",
        "\n",
        "# Pedir al usuario que ingrese los dos números\n",
        "numero1 = int(input(\"Ingrese el primer número: \"))\n",
        "numero2 = int(input(\"Ingrese el segundo número: \"))\n",
        "\n",
        "# Calcular el MCD y mostrar el resultado\n",
        "mcd = calcular_mcd(numero1, numero2)\n",
        "print(f\"El máximo común divisor de {numero1} y {numero2} es: {mcd}\")\n"
      ]
    }
  ]
}