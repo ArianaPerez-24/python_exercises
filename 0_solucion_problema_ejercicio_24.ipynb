{
  "nbformat": 4,
  "nbformat_minor": 0,
  "metadata": {
    "colab": {
      "provenance": [],
      "authorship_tag": "ABX9TyMJPAEEQItrgAqeppBFrdDZ",
      "include_colab_link": true
    },
    "kernelspec": {
      "name": "python3",
      "display_name": "Python 3"
    },
    "language_info": {
      "name": "python"
    }
  },
  "cells": [
    {
      "cell_type": "markdown",
      "metadata": {
        "id": "view-in-github",
        "colab_type": "text"
      },
      "source": [
        "<a href=\"https://colab.research.google.com/github/mevangelista-alvarado/python_exercises/blob/main/0_solucion_problema_ejercicio_24.ipynb\" target=\"_parent\"><img src=\"https://colab.research.google.com/assets/colab-badge.svg\" alt=\"Open In Colab\"/></a>"
      ]
    },
    {
      "cell_type": "code",
      "execution_count": null,
      "metadata": {
        "colab": {
          "base_uri": "https://localhost:8080/"
        },
        "id": "wZ3WIT9q8Qom",
        "outputId": "047993a7-dd1d-474e-be2d-32bf6747463e"
      },
      "outputs": [
        {
          "output_type": "stream",
          "name": "stdout",
          "text": [
            "Titular: Cesar, Saldo: 1000\n",
            "Titular: Karime, Saldo: 500\n",
            "Titular: Cesar, Saldo: 1500\n",
            "Titular: Karime, Saldo: 300\n"
          ]
        }
      ],
      "source": [
        "class banco:\n",
        "    def __init__(self, nombre, saldo=0): #inicia funciones cuando se crea el objeto\n",
        "        self.nombre = nombre #se llama a si mismo\n",
        "        self.saldo = saldo\n",
        "\n",
        "    def deposito(self, cantidad):\n",
        "        self.saldo += cantidad\n",
        "\n",
        "    def retiro(self, cantidad):\n",
        "        if self.saldo >= cantidad:\n",
        "            self.saldo -= cantidad\n",
        "        else:\n",
        "            print(f\"Fondos insuficientes en la cuenta de {self.nombre}.\")\n",
        "\n",
        "    def obtener_saldo(self):\n",
        "        return f\"titular: {self.nombre}, saaldo: {self.saldo}\"\n",
        "\n",
        "cuentas = [banco(\"cesar\", 1000), banco(\"karime\", 500)]  #lista de objetos de la clase Banco\n",
        "\n",
        "for cuenta in cuentas:  #recorrer cada cuenta y mostrar los detalles\n",
        "    print(cuenta.obtener_saldo())\n",
        "\n",
        "cuentas[0].deposto(500)  #generar un depósito en la cuenta del primer registro Cesar\n",
        "cuentas[1].retiro(200)  #generar un retiro de 200 en la cuenta del segundo registro Karime\n",
        "\n",
        "for cuenta in cuentas:  #recorrer cada cuenta y mostrar los detalles actualizados\n",
        "    print(cuenta.obtener_saldo())\n"
      ]
    }
  ]
}