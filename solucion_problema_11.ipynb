{
  "nbformat": 4,
  "nbformat_minor": 0,
  "metadata": {
    "colab": {
      "provenance": [],
      "authorship_tag": "ABX9TyNioN5OLHIEr3QEXBizi6Rq",
      "include_colab_link": true
    },
    "kernelspec": {
      "name": "python3",
      "display_name": "Python 3"
    },
    "language_info": {
      "name": "python"
    }
  },
  "cells": [
    {
      "cell_type": "markdown",
      "metadata": {
        "id": "view-in-github",
        "colab_type": "text"
      },
      "source": [
        "<a href=\"https://colab.research.google.com/github/mevangelista-alvarado/python_exercises/blob/main/solucion_problema_11.ipynb\" target=\"_parent\"><img src=\"https://colab.research.google.com/assets/colab-badge.svg\" alt=\"Open In Colab\"/></a>"
      ]
    },
    {
      "cell_type": "markdown",
      "source": [
        "**Actualizado**: 31/10/2023\n",
        "\n",
        "**Autor**: Maximiliano Martinez Garcia\n",
        "\n",
        "**GitHub**: Kilodemichote"
      ],
      "metadata": {
        "id": "xMZtUxy6_22Z"
      }
    },
    {
      "cell_type": "markdown",
      "source": [
        "**Tema**: Manipulacion De Fechas\n",
        "\n",
        "**Ejercicio** **11**: Escribir una función que calcule y muestre en consola el día de la semana en la que nacio un usuario, la fecha de nacimiento es dada por el usuario.\n",
        "\n",
        "**Introduccion**: Este código sirve para otorgar al usuario el día de la fecha indicada en el programa, ya sea pasada, presente o futura.\n",
        "\n",
        "**Codigo**: Este codigo nos permite obtener el dia de la semana apartir de una fecha ingresada por el usuario. Se utiliza el metodo datetime.strptime para comvertir la fecha ingresada en un datetime. Tambien se utiliza el metodo weekday del objeto datetime para obtener el numero de dia de la semana. Este metodo devuelve un numero del 0 al 6, donde el 0 representa el dia lunes, 1 martes y asi sucesivamente. Tambien se utiliza el modulo calendar para obtener el nombre del dia de la semana. Se utiliza el numero obtenido anterirmente como indice en la lista de nombres.\n"
      ],
      "metadata": {
        "id": "i78UvfjYBH_B"
      }
    },
    {
      "cell_type": "code",
      "source": [
        "import datetime\n",
        "import calendar\n",
        "\n",
        "fecha_str = input(\"Ingrese la fecha (en formato dd/mm/yyyy): \")\n",
        "\n",
        "fecha = datetime.datetime.strptime(fecha_str, \"%d/%m/%Y\")\n",
        "\n",
        "dia_semana = fecha.weekday()\n",
        "\n",
        "dias_semana_espanol = [\"lunes\", \"martes\", \"miércoles\", \"jueves\", \"viernes\", \"sábado\", \"domingo\"]\n",
        "\n",
        "nombre_dia = dias_semana_espanol[dia_semana]\n",
        "\n",
        "print(\"El día de la semana para la fecha\", fecha_str, \"es\", nombre_dia)"
      ],
      "metadata": {
        "colab": {
          "base_uri": "https://localhost:8080/"
        },
        "id": "Re95IixhEjOV",
        "outputId": "912da743-37e2-418e-d8e1-0befcc5ff362"
      },
      "execution_count": 16,
      "outputs": [
        {
          "output_type": "stream",
          "name": "stdout",
          "text": [
            "Ingrese la fecha (en formato dd/mm/yyyy): 10/10/2002\n",
            "El día de la semana para la fecha 10/10/2002 es jueves\n"
          ]
        }
      ]
    },
    {
      "cell_type": "markdown",
      "source": [
        "**Bibliografia**:\n",
        "Codigofacilito. (s.f.). Fechas en Python. Recuperado el 27 de noviembre de 2021, de https://codigofacilito.com/articulos/fechas-python>\n",
        "\n",
        "Barcelona Geeks. (s.f.). Programa de Python para encontrar el día de la semana para una fecha determinada. Recuperado de https://barcelonageeks.com/programa-de-python-para-encontrar-el-dia-de-la-semana-para-una-fecha-determinada/>\n",
        "\n",
        "Maximiliano Martinez Garcia."
      ],
      "metadata": {
        "id": "esX81GjxIW0H"
      }
    }
  ]
}