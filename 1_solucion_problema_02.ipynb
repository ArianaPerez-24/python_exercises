{
  "nbformat": 4,
  "nbformat_minor": 0,
  "metadata": {
    "colab": {
      "provenance": [],
      "authorship_tag": "ABX9TyPNWOopTFMqGU+i6KhA1iJE",
      "include_colab_link": true
    },
    "kernelspec": {
      "name": "python3",
      "display_name": "Python 3"
    },
    "language_info": {
      "name": "python"
    }
  },
  "cells": [
    {
      "cell_type": "markdown",
      "metadata": {
        "id": "view-in-github",
        "colab_type": "text"
      },
      "source": [
        "<a href=\"https://colab.research.google.com/github/mevangelista-alvarado/python_exercises/blob/main/1_solucion_problema_02.ipynb\" target=\"_parent\"><img src=\"https://colab.research.google.com/assets/colab-badge.svg\" alt=\"Open In Colab\"/></a>"
      ]
    },
    {
      "cell_type": "code",
      "execution_count": null,
      "metadata": {
        "colab": {
          "base_uri": "https://localhost:8080/"
        },
        "id": "JeJ7UlUfXT5M",
        "outputId": "ac7ddba4-6946-4dbe-c57e-adffcba56a59"
      },
      "outputs": [
        {
          "output_type": "stream",
          "name": "stdout",
          "text": [
            "CALCULEMOS UN NÚMERO FACTORIAL N!\n",
            "\n",
            "Un número factorial es aquel producto de un número natural, el cual resultara de la multiplicación\n",
            "de los números consecutivos que lo anteceden. Ej. 4! (cuatro factorial) = 4x3x2x1\n",
            "\n"
          ]
        }
      ],
      "source": [
        "print (\"CALCULEMOS UN NÚMERO FACTORIAL N!\")\n",
        "print (\"\")\n",
        "print (\"Un número factorial es aquel producto de un número natural, el cual resultara de la multiplicación\")\n",
        "print (\"de los números consecutivos que lo anteceden. Ej. 4! (cuatro factorial) = 4x3x2x1\")\n",
        "print (\"\")\n",
        "numero = int(input(\"Introduzca un número entero cualquiera: \"))\n",
        "factorial = 1\n",
        "i = 1\n",
        "while (i <= numero):\n",
        "    factorial = factorial * i\n",
        "    i = i + 1\n",
        "print (\"El factorial de \" + str(numero) + \" es \" + str(factorial))"
      ]
    }
  ]
}