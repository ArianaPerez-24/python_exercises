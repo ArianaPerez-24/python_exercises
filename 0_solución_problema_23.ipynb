Actualizado: octubre-2023
Autor: Sara Claudia Jiménez Salvador
Github: sarajim29

Introducción
Una pequeña inñ,lkl
Tema
El tema a desarrollar con su implementacion en Python

Bibliografía
En formato APA 7ma Edición
