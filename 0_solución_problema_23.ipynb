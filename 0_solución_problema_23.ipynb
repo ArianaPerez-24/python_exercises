{
  "nbformat": 4,
  "nbformat_minor": 0,
  "metadata": {
    "colab": {
      "provenance": [],
      "authorship_tag": "ABX9TyPd97Mgad5NECknMMSTFTWr",
      "include_colab_link": true
    },
    "kernelspec": {
      "name": "python3",
      "display_name": "Python 3"
    },
    "language_info": {
      "name": "python"
    }
  },
  "cells": [
    {
      "cell_type": "markdown",
      "metadata": {
        "id": "view-in-github",
        "colab_type": "text"
      },
      "source": [
        "<a href=\"https://colab.research.google.com/github/mevangelista-alvarado/python_exercises/blob/main/0_soluci%C3%B3n_problema_23.ipynb\" target=\"_parent\"><img src=\"https://colab.research.google.com/assets/colab-badge.svg\" alt=\"Open In Colab\"/></a>"
      ]
    },
    {
      "cell_type": "code",
      "execution_count": null,
      "metadata": {
        "colab": {
          "base_uri": "https://localhost:8080/"
        },
        "id": "bPXH0F4roAED",
        "outputId": "7b81ba10-33fb-4c26-bfd1-605e6fc538c9"
      },
      "outputs": [
        {
          "output_type": "stream",
          "name": "stdout",
          "text": [
            "Ingrese cuánto vale el largo del rectángulo: 8\n",
            "Ingrese cuánto vale el ancho del rectángulo: 4\n",
            "el perímetro de un rectángulo es 24\n",
            "el area de un rectángulo es 32\n"
          ]
        }
      ],
      "source": [
        "#ÁREA Y PERÍMETRO DEL RECTÁNGULO\n",
        "# Online Python compiler (interpreter) to run Python online.\n",
        "\n",
        "#En este espacio el usuario va a introducir las medidas del rectángulo\n",
        "n1 = int(input(\"Ingrese cuánto vale el largo del rectángulo: \") )\n",
        "n2 = int(input(\"Ingrese cuánto vale el ancho del rectángulo: \") )\n",
        "#A continuación se va a calcular y mostrar el perímertro y el área con las medidas anteriormente introducidas\n",
        "print(\"el perímetro de un rectángulo es\",n1+n1+n2+n2)\n",
        "print(\"el area de un rectángulo es\",n1*n2)\n"
      ]
    },
    {
      "cell_type": "code",
      "source": [],
      "metadata": {
        "id": "M5BEbuVKatFB"
      },
      "execution_count": null,
      "outputs": []
    }
  ]
}