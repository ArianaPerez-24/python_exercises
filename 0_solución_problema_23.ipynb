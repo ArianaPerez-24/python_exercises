Actualizado: Última fecha en la que se ejecutó el código Python, este dato debe estar en formato Nombre del Mes-Año Obligatorio

Autor: Nombre del autor Opcional

Github: Github del autor Opcional

Los campos Autor y Github son opcionales, solo sí el autor desea colocarlos.

Introducción
Una pequeña introducción al tema

Tema
El tema a desarrollar con su implementacion en Python

Bibliografía
En formato APA 7ma Edición
