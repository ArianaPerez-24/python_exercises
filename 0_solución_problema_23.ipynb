Actualizado: octubre-2023
Autor: Sara Claudia Jiménez Salvador
Github: sarajim29

Los campos Autor y Github son opcionales, solo sí el autor desea colocarlos.

Introducción
Una pequeña introducción al tema

Tema
El tema a desarrollar con su implementacion en Python

Bibliografía
En formato APA 7ma Edición
