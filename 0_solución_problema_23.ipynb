Actualizado: octubre-2023
Autor: Sara Claudia Jiménez Salvador
Github: sarajim29

Introducción
El área de un rectángulo es
Tema
El tema a desarrollar con su implementacion en Python

Bibliografía
En formato APA 7ma Edición
